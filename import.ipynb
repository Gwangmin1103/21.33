{
  "nbformat": 4,
  "nbformat_minor": 0,
  "metadata": {
    "colab": {
      "name": "import.ipynb",
      "provenance": [],
      "include_colab_link": true
    },
    "kernelspec": {
      "name": "python3",
      "display_name": "Python 3"
    },
    "language_info": {
      "name": "python"
    }
  },
  "cells": [
    {
      "cell_type": "markdown",
      "metadata": {
        "id": "view-in-github",
        "colab_type": "text"
      },
      "source": [
        "<a href=\"https://colab.research.google.com/github/Gwangmin1103/21.33/blob/main/import.ipynb\" target=\"_parent\"><img src=\"https://colab.research.google.com/assets/colab-badge.svg\" alt=\"Open In Colab\"/></a>"
      ]
    },
    {
      "cell_type": "markdown",
      "source": [
        "function을 모아놓은게 library(특정 용도의 function들을 모아놓음)\n",
        "\n",
        "-> library를 먼저 불러오고,..\n",
        "\n",
        "python library를 인터넷에 쳐 보면 됨\n",
        "코딩, 개발자는 적절한 function을 쓸 줄 아는 게 중요함\n",
        "\n",
        "pandas는 엑셀 - 데이터관리 느낌 / 숫자 아니어도 됨\n",
        "\n",
        "plotting이 matplotlibs, ... NLTK는 자연어처리 ..."
      ],
      "metadata": {
        "id": "mSeE7yok95ZT"
      }
    },
    {
      "cell_type": "code",
      "metadata": {
        "id": "JXicrkYOzPRo",
        "outputId": "7b5a4111-9835-43fc-80b4-40f0fd580aa6",
        "colab": {
          "base_uri": "https://localhost:8080/"
        }
      },
      "source": [
        "import numpy as np\n",
        "n = np.random.randn(10000)\n",
        "n"
      ],
      "execution_count": 8,
      "outputs": [
        {
          "output_type": "execute_result",
          "data": {
            "text/plain": [
              "array([-0.10327781, -0.45846103, -0.21984203, ..., -0.78361397,\n",
              "        2.30240356, -0.08853677])"
            ]
          },
          "metadata": {},
          "execution_count": 8
        }
      ]
    },
    {
      "cell_type": "markdown",
      "source": [
        "100이라고 하면 그냥 1차원에 100개를 만드는 거. (2,3)을 적으면 3개짜리가 2row로. (2,3,5)면 5회 3세트 2종목 이런 식으로.2,3,5면 그래서 data의 dimension이 3"
      ],
      "metadata": {
        "id": "MFzBAkjKA_tv"
      }
    },
    {
      "cell_type": "markdown",
      "source": [],
      "metadata": {
        "id": "6_9F2oWC_wxu"
      }
    },
    {
      "cell_type": "markdown",
      "source": [
        "matplotlib: matlab의 plotting과 같은 library다..histogram이 중요\n",
        "\n",
        "bin(바구니)를 똑같은 interval로 생성해서 바구니에 데이터를 넣는데..데이터의 개수를 넣음. 그래서 histogram의 y축은 항상 자연수 / bin사이즈를 조정할 수 있음 ..."
      ],
      "metadata": {
        "id": "urx2Ks7xCADL"
      }
    },
    {
      "cell_type": "code",
      "metadata": {
        "id": "oKT4vn4MwyLA",
        "colab": {
          "base_uri": "https://localhost:8080/",
          "height": 739
        },
        "outputId": "eb116bb1-f5c5-444a-a7bd-351555184354"
      },
      "source": [
        "import matplotlib\n",
        "matplotlib.pyplot.hist(n, bins=50)"
      ],
      "execution_count": 9,
      "outputs": [
        {
          "output_type": "execute_result",
          "data": {
            "text/plain": [
              "(array([  1.,   0.,   1.,   3.,   3.,   3.,   8.,   7.,  19.,  12.,  33.,\n",
              "         43.,  68.,  88., 102., 124., 205., 201., 288., 314., 385., 454.,\n",
              "        516., 543., 555., 513., 605., 637., 611., 546., 523., 500., 387.,\n",
              "        363., 316., 208., 193., 183., 130.,  78.,  71.,  48.,  42.,  23.,\n",
              "         21.,   7.,   8.,   3.,   6.,   2.]),\n",
              " array([-3.99632124, -3.84660981, -3.69689838, -3.54718696, -3.39747553,\n",
              "        -3.2477641 , -3.09805268, -2.94834125, -2.79862982, -2.6489184 ,\n",
              "        -2.49920697, -2.34949554, -2.19978412, -2.05007269, -1.90036126,\n",
              "        -1.75064984, -1.60093841, -1.45122698, -1.30151556, -1.15180413,\n",
              "        -1.0020927 , -0.85238128, -0.70266985, -0.55295842, -0.403247  ,\n",
              "        -0.25353557, -0.10382414,  0.04588728,  0.19559871,  0.34531014,\n",
              "         0.49502156,  0.64473299,  0.79444442,  0.94415584,  1.09386727,\n",
              "         1.2435787 ,  1.39329012,  1.54300155,  1.69271298,  1.8424244 ,\n",
              "         1.99213583,  2.14184726,  2.29155868,  2.44127011,  2.59098154,\n",
              "         2.74069296,  2.89040439,  3.04011582,  3.18982724,  3.33953867,\n",
              "         3.4892501 ]),\n",
              " <BarContainer object of 50 artists>)"
            ]
          },
          "metadata": {},
          "execution_count": 9
        },
        {
          "output_type": "display_data",
          "data": {
            "text/plain": [
              "<Figure size 640x480 with 1 Axes>"
            ],
            "image/png": "[encoded data removed]"
          },
          "metadata": {}
        }
      ]
    },
    {
      "cell_type": "markdown",
      "source": [
        "cf) standard deviation의 의미는? ... 67%다..-1~1이 67%, -2~2가 95%, 3은 98(아마?) ->"
      ],
      "metadata": {
        "id": "51ajzXbnDKMK"
      }
    },
    {
      "cell_type": "code",
      "metadata": {
        "colab": {
          "base_uri": "https://localhost:8080/",
          "height": 350
        },
        "id": "zQJ4LnbA-Hvz",
        "outputId": "bec7eeff-8cae-4c3d-f090-eaf78cdb5fa9"
      },
      "source": [
        "import matplotlib.pyplot\n",
        "matplotlib.pyplot.hist(n)"
      ],
      "execution_count": null,
      "outputs": [
        {
          "output_type": "execute_result",
          "data": {
            "text/plain": [
              "(array([ 4.,  4.,  4.,  8., 19., 21., 16., 13.,  6.,  5.]),\n",
              " array([-2.54804234, -2.0585933 , -1.56914426, -1.07969522, -0.59024618,\n",
              "        -0.10079714,  0.3886519 ,  0.87810094,  1.36754998,  1.85699902,\n",
              "         2.34644806]),\n",
              " <a list of 10 Patch objects>)"
            ]
          },
          "metadata": {},
          "execution_count": 4
        },
        {
          "output_type": "display_data",
          "data": {
            "image/png": "[encoded data removed]",
            "text/plain": [
              "<Figure size 432x288 with 1 Axes>"
            ]
          },
          "metadata": {
            "needs_background": "light"
          }
        }
      ]
    },
    {
      "cell_type": "markdown",
      "source": [
        "import matplotlib.pyplot as plt...로 import하는 게 가장 많이 쓰임"
      ],
      "metadata": {
        "id": "-hr6PGIDDwZD"
      }
    },
    {
      "cell_type": "code",
      "metadata": {
        "id": "AWU6awi53c07",
        "outputId": "9b49fb47-6bac-4887-8815-e5ed130f6c56",
        "colab": {
          "base_uri": "https://localhost:8080/",
          "height": 350
        }
      },
      "source": [
        "import matplotlib.pyplot as plt\n",
        "plt.hist(n)"
      ],
      "execution_count": null,
      "outputs": [
        {
          "output_type": "execute_result",
          "data": {
            "text/plain": [
              "(array([ 4.,  4.,  4.,  8., 19., 21., 16., 13.,  6.,  5.]),\n",
              " array([-2.54804234, -2.0585933 , -1.56914426, -1.07969522, -0.59024618,\n",
              "        -0.10079714,  0.3886519 ,  0.87810094,  1.36754998,  1.85699902,\n",
              "         2.34644806]),\n",
              " <a list of 10 Patch objects>)"
            ]
          },
          "metadata": {},
          "execution_count": 5
        },
        {
          "output_type": "display_data",
          "data": {
            "image/png": "[encoded data removed]",
            "text/plain": [
              "<Figure size 432x288 with 1 Axes>"
            ]
          },
          "metadata": {
            "needs_background": "light"
          }
        }
      ]
    },
    {
      "cell_type": "markdown",
      "source": [
        "## from import를 쓰면 import as처럼 축약해서 부를 수 있는 효과"
      ],
      "metadata": {
        "id": "v1zA2xRWzpdu"
      }
    },
    {
      "cell_type": "markdown",
      "source": [
        "import를 쓰는 여러가지 방법들..인데 그냥 그렇구나 하고 여러번 써볼 것. ."
      ],
      "metadata": {
        "id": "8OFhMzIPEEUl"
      }
    },
    {
      "cell_type": "code",
      "metadata": {
        "colab": {
          "base_uri": "https://localhost:8080/",
          "height": 350
        },
        "id": "moIjn3Kv-Hqy",
        "outputId": "4b1e3880-1576-4b63-b4d0-192704221a8d"
      },
      "source": [
        "from matplotlib import pyplot\n",
        "pyplot.hist(n)"
      ],
      "execution_count": null,
      "outputs": [
        {
          "output_type": "execute_result",
          "data": {
            "text/plain": [
              "(array([ 3.,  4.,  9., 11., 26., 19., 16., 10.,  1.,  1.]),\n",
              " array([-2.51307585, -1.99199295, -1.47091005, -0.94982715, -0.42874425,\n",
              "         0.09233865,  0.61342155,  1.13450445,  1.65558734,  2.17667024,\n",
              "         2.69775314]),\n",
              " <a list of 10 Patch objects>)"
            ]
          },
          "metadata": {},
          "execution_count": 11
        },
        {
          "output_type": "display_data",
          "data": {
            "image/png": "[encoded data removed]",
            "text/plain": [
              "<Figure size 432x288 with 1 Axes>"
            ]
          },
          "metadata": {
            "needs_background": "light"
          }
        }
      ]
    },
    {
      "cell_type": "code",
      "metadata": {
        "colab": {
          "base_uri": "https://localhost:8080/",
          "height": 350
        },
        "id": "ORo259i7_Uqi",
        "outputId": "8faa9ebd-66ff-4f86-e588-f114023e649d"
      },
      "source": [
        "from matplotlib.pyplot import hist\n",
        "hist(n)"
      ],
      "execution_count": null,
      "outputs": [
        {
          "output_type": "execute_result",
          "data": {
            "text/plain": [
              "(array([ 3.,  4.,  9., 11., 26., 19., 16., 10.,  1.,  1.]),\n",
              " array([-2.51307585, -1.99199295, -1.47091005, -0.94982715, -0.42874425,\n",
              "         0.09233865,  0.61342155,  1.13450445,  1.65558734,  2.17667024,\n",
              "         2.69775314]),\n",
              " <a list of 10 Patch objects>)"
            ]
          },
          "metadata": {},
          "execution_count": 14
        },
        {
          "output_type": "display_data",
          "data": {
            "image/png": "[encoded data removed]",
            "text/plain": [
              "<Figure size 432x288 with 1 Axes>"
            ]
          },
          "metadata": {
            "needs_background": "light"
          }
        }
      ]
    }
  ]
}