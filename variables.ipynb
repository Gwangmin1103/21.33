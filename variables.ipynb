{
  "nbformat": 4,
  "nbformat_minor": 0,
  "metadata": {
    "kernelspec": {
      "display_name": "Python 3",
      "language": "python",
      "name": "python3"
    },
    "language_info": {
      "codemirror_mode": {
        "name": "ipython",
        "version": 3
      },
      "file_extension": ".py",
      "mimetype": "text/x-python",
      "name": "python",
      "nbconvert_exporter": "python",
      "pygments_lexer": "ipython3",
      "version": "3.7.1"
    },
    "colab": {
      "name": "variables.ipynb",
      "provenance": [],
      "include_colab_link": true
    }
  },
  "cells": [
    {
      "cell_type": "markdown",
      "metadata": {
        "id": "view-in-github",
        "colab_type": "text"
      },
      "source": [
        "<a href=\"https://colab.research.google.com/github/Gwangmin1103/21.33/blob/main/variables.ipynb\" target=\"_parent\"><img src=\"https://colab.research.google.com/assets/colab-badge.svg\" alt=\"Open In Colab\"/></a>"
      ]
    },
    {
      "cell_type": "code",
      "metadata": {
        "id": "goAyoU7vRheI",
        "outputId": "46300121-37f0-4414-e15e-2439cedfa909",
        "colab": {
          "base_uri": "https://localhost:8080/"
        }
      },
      "source": [
        "a = 1; print(type(a))\n"
      ],
      "execution_count": 1,
      "outputs": [
        {
          "output_type": "stream",
          "name": "stdout",
          "text": [
            "<class 'int'>\n"
          ]
        }
      ]
    },
    {
      "cell_type": "markdown",
      "source": [
        "해석: a라는 변수에 1이라는 값을 assign한다..로 읽어야 됨"
      ],
      "metadata": {
        "id": "T4X36slP6h6B"
      }
    },
    {
      "cell_type": "code",
      "source": [
        "a = 1\n",
        "a\n",
        "maggie = 24\n",
        "print(maggie)"
      ],
      "metadata": {
        "id": "OZqbQprK65d8",
        "outputId": "f9a9bc4d-be77-4cf8-dd0c-ab07c1e4600f",
        "colab": {
          "base_uri": "https://localhost:8080/"
        }
      },
      "execution_count": 5,
      "outputs": [
        {
          "output_type": "stream",
          "name": "stdout",
          "text": [
            "24\n"
          ]
        }
      ]
    },
    {
      "cell_type": "code",
      "source": [],
      "metadata": {
        "id": "OoRt8swl6_PK"
      },
      "execution_count": null,
      "outputs": []
    },
    {
      "cell_type": "markdown",
      "source": [
        "기절초풍왕순대..? 간단한 워드 프로세싱 기능으로 보면 됨\n",
        "'print'는 남들이 만들어놓은 함수. 'print()'를 보면 '함수구나''누군가 만들어놓음..입력에는 반드시 변수가 들어가야되고, 그 변수에 대한 값을 화면에 뿌려라..하는 식으로"
      ],
      "metadata": {
        "id": "Ol0EqSNr7Eoh"
      }
    },
    {
      "cell_type": "code",
      "metadata": {
        "id": "txxnoqJuRheJ",
        "outputId": "f7da1328-a352-4f89-d68f-300a5b71a373",
        "colab": {
          "base_uri": "https://localhost:8080/"
        }
      },
      "source": [
        "a = 11; print(type(a))"
      ],
      "execution_count": 6,
      "outputs": [
        {
          "output_type": "stream",
          "name": "stdout",
          "text": [
            "<class 'int'>\n"
          ]
        }
      ]
    },
    {
      "cell_type": "markdown",
      "source": [
        "세미콜론 대신 줄 나눠도 ㄱㅊ // '괄호가 있으니까 저 앞에 있는 건 함수구나', 'type이라는 함수가 입력값 a를 받았구나...\n",
        "\n",
        "변수로 들어갈 수 있는 건 크게 '문자'와 '숫자' 2개밖에 없구나..로 보면 된다고 함.\n",
        "\n",
        "숫자로 들어갈 수 있는 건 정수, 실수 2가지.\n",
        "\n",
        "-1.0 치면 float로 나옴."
      ],
      "metadata": {
        "id": "_jxLyWxS8Zcd"
      }
    },
    {
      "cell_type": "code",
      "metadata": {
        "id": "SyP0PB86RheL",
        "outputId": "e10d274f-e7fd-4cdd-a822-847fb83560ec"
      },
      "source": [
        "a = 'abc'; print(type(a)); print(a[1])"
      ],
      "execution_count": null,
      "outputs": [
        {
          "output_type": "stream",
          "text": [
            "<class 'str'>\n",
            "2\n"
          ],
          "name": "stdout"
        }
      ]
    },
    {
      "cell_type": "markdown",
      "source": [
        "문자 넣을 때는 single quote''로 감싸야 함(string'이니까)\n"
      ],
      "metadata": {
        "id": "ES-KboYA9iPx"
      }
    },
    {
      "cell_type": "code",
      "source": [
        "a = '123'\n",
        "type(a)"
      ],
      "metadata": {
        "id": "IZUwopsE-AZC",
        "outputId": "2910b3b7-4eb6-48f2-88ae-1c7ae01211a3",
        "colab": {
          "base_uri": "https://localhost:8080/"
        }
      },
      "execution_count": 7,
      "outputs": [
        {
          "output_type": "execute_result",
          "data": {
            "text/plain": [
              "str"
            ]
          },
          "metadata": {},
          "execution_count": 7
        }
      ]
    },
    {
      "cell_type": "code",
      "source": [
        "a = 1 + 1\n",
        "a"
      ],
      "metadata": {
        "id": "pUs9qbi7-EiH",
        "outputId": "49b42a44-b44e-4e51-8f3c-7ece56a41841",
        "colab": {
          "base_uri": "https://localhost:8080/"
        }
      },
      "execution_count": 8,
      "outputs": [
        {
          "output_type": "execute_result",
          "data": {
            "text/plain": [
              "2"
            ]
          },
          "metadata": {},
          "execution_count": 8
        }
      ]
    },
    {
      "cell_type": "code",
      "source": [
        "a = '1' + '1'\n",
        "a"
      ],
      "metadata": {
        "id": "MYib-M0V-LZ-",
        "outputId": "0167d0a9-6726-4155-f25d-6038443c6805",
        "colab": {
          "base_uri": "https://localhost:8080/",
          "height": 35
        }
      },
      "execution_count": 9,
      "outputs": [
        {
          "output_type": "execute_result",
          "data": {
            "text/plain": [
              "'11'"
            ],
            "application/vnd.google.colaboratory.intrinsic+json": {
              "type": "string"
            }
          },
          "metadata": {},
          "execution_count": 9
        }
      ]
    },
    {
      "cell_type": "code",
      "source": [],
      "metadata": {
        "id": "RYHEvx0P-K05"
      },
      "execution_count": null,
      "outputs": []
    },
    {
      "cell_type": "code",
      "metadata": {
        "id": "EKYj0dvIHPo0",
        "outputId": "a1237ded-1b0a-4ec6-e393-09846b2194a5",
        "colab": {
          "base_uri": "https://localhost:8080/"
        }
      },
      "source": [
        "a = 'hello'; print(type(a)); print(a[1])"
      ],
      "execution_count": null,
      "outputs": [
        {
          "output_type": "stream",
          "name": "stdout",
          "text": [
            "<class 'str'>\n",
            "e\n"
          ]
        }
      ]
    },
    {
      "cell_type": "code",
      "metadata": {
        "id": "Df6PhU-tHXr2",
        "outputId": "3e99729c-3214-4756-e692-1522f494a01e",
        "colab": {
          "base_uri": "https://localhost:8080/"
        }
      },
      "source": [
        "a = [1, 2, 3, 4]; print(type(a)); print(a[0])"
      ],
      "execution_count": null,
      "outputs": [
        {
          "output_type": "stream",
          "name": "stdout",
          "text": [
            "<class 'list'>\n",
            "1\n"
          ]
        }
      ]
    },
    {
      "cell_type": "markdown",
      "source": [
        "대괄호를 쓰면 무조건 list가 됨 - 1개든 여러개든. 그리고 숫자 문자 리스트 모두 동시에 들어갈 수도 있다"
      ],
      "metadata": {
        "id": "BIKoushJ-gle"
      }
    },
    {
      "cell_type": "code",
      "metadata": {
        "id": "DfS-gknCRheL",
        "outputId": "ff76fc0a-73db-43fc-bb86-946381a6cb4d",
        "colab": {
          "base_uri": "https://localhost:8080/"
        }
      },
      "source": [
        "a = [1,'a', [3, '4']]; print(type(a)); print(a[0]); print(a[1]); print(a[2]); print(a[2][1])"
      ],
      "execution_count": null,
      "outputs": [
        {
          "output_type": "stream",
          "name": "stdout",
          "text": [
            "<class 'list'>\n",
            "1\n",
            "a\n",
            "[3, '4']\n",
            "4\n"
          ]
        }
      ]
    },
    {
      "cell_type": "markdown",
      "source": [
        "리스트에서 몇 번째 가져오는 법: a[대괄호 안에 몇 번째인지 숫자]를 쓰는데, 컴퓨터는 0부터 시작"
      ],
      "metadata": {
        "id": "f48CdzHK_FaX"
      }
    },
    {
      "cell_type": "code",
      "source": [
        "a = [1,'a', [3, '4']]\n",
        "a[2][1]"
      ],
      "metadata": {
        "id": "DmdcQ9G6_clp",
        "outputId": "b5f101c1-1c17-4884-ffe9-d20af71f6c9f",
        "colab": {
          "base_uri": "https://localhost:8080/",
          "height": 35
        }
      },
      "execution_count": 10,
      "outputs": [
        {
          "output_type": "execute_result",
          "data": {
            "text/plain": [
              "'4'"
            ],
            "application/vnd.google.colaboratory.intrinsic+json": {
              "type": "string"
            }
          },
          "metadata": {},
          "execution_count": 10
        }
      ]
    },
    {
      "cell_type": "markdown",
      "source": [
        "a리스트의 2번 순서인 리스트 안에서 1번 순서니까 => a[2][1]로 access한다.\n",
        "\n",
        "근데 단순히 리스트 형태로 저장하지 않고 pair 형태로 저장해서 access할 수도 있는데 그게 dict 형식. 사전의 정보 저장 방법과 똑같기 때문에 dict라고 한다.\n",
        "\n",
        "번호 안 쓰려고 dict쓰는 거\n",
        "\n",
        "dict는 중괄호를 쓰고, 각 페어는 comma로 구분. 아래에서는 \"a\":\"apple\"이 한 덩어리고, 문자는 single double quote 둘 다 상관 없음.\n",
        "\n",
        "colon으로 pair되고, access는 앞에 꺼를 쓰면 됨.\n"
      ],
      "metadata": {
        "id": "OIhYWsZZ_nMX"
      }
    },
    {
      "cell_type": "code",
      "source": [
        "a =\t{'a': 'apple', 'b': 'orange', 'c': 2014, 'maggie':24}\n",
        "\n",
        "a['maggie']"
      ],
      "metadata": {
        "id": "mKyF2tWxA1cp",
        "outputId": "ecbb05a2-1a3d-4d88-8fed-7ad394a252e4",
        "colab": {
          "base_uri": "https://localhost:8080/"
        }
      },
      "execution_count": 13,
      "outputs": [
        {
          "output_type": "execute_result",
          "data": {
            "text/plain": [
              "24"
            ]
          },
          "metadata": {},
          "execution_count": 13
        }
      ]
    },
    {
      "cell_type": "code",
      "metadata": {
        "id": "2sivfloGRheM",
        "outputId": "5c768bb7-e02b-4c87-a76e-3e992cdb244e"
      },
      "source": [
        "a =\t{'a': 'apple', 'b': 'orange', 'c': 2014}\n",
        "print(type(a))\n",
        "print(a['a'])"
      ],
      "execution_count": null,
      "outputs": [
        {
          "output_type": "stream",
          "text": [
            "<class 'dict'>\n",
            "apple\n"
          ],
          "name": "stdout"
        }
      ]
    },
    {
      "cell_type": "markdown",
      "source": [],
      "metadata": {
        "id": "t0vAdpZy_UVK"
      }
    }
  ]
}